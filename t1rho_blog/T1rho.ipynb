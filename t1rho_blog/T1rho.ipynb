{
 "cells": [
  {
   "cell_type": "markdown",
   "metadata": {
    "kernel": "SoS"
   },
   "source": [
    "<center><h1 style=\"font-family: timesnewroman;font-size: 40px;\">T<sub>1𝞺</sub> Mapping</h1></center>\n",
    "<p>"
   ]
  },
  {
   "cell_type": "markdown",
   "metadata": {
    "kernel": "SoS"
   },
   "source": [
    "<div class=blog_body>\n",
    "<p style=\"text-align:justify;\">\n",
    "T<sub>1</sub> relaxation time at clinical fields (1.5 or 3 T) probes the molecular motional processes in the MHz range (e.g. 64 or 128 MHz). To measure such processes in the kHz range, while still performing the experiment at clinical fields, we can use T<sub>1𝞺</sub> relaxation (Redfield 1955). In a T<sub>1𝞺</sub> relaxation experiment, a spin-lock pulse, ω<sub>1</sub>, is applied in the rotating frame, proportional to the B<sub>1</sub> field (ω<sub>1</sub> = ɣB<sub>1</sub>). The result is that the spins rotate around the spin-lock pulse in the rotating frame, similar to T<sub>1</sub> relaxation, where the spins rotate around B<sub>0</sub>. Due to that similarity to the T<sub>1</sub> relaxation experiment, T<sub>1𝞺</sub> is known as the spin-lattice relaxation time in the rotating frame (Jones 1966). T<sub>1𝞺</sub> has previously been used with ω<sub>1</sub> = 1 to 20 kHz to acquire information about T<sub>1</sub> relaxation times at lower field strengths using a clinical system operating at 0.15 T (Santyr et al. 1989), which had more available signal than imaging at 0.001 T as had previously been done (Koenig & Brown 1984).\n",
    "</p>\n",
    "\n",
    "<p style=\"text-align:justify;\">\n",
    "The T<sub>1𝞺</sub> experiment is also similar to the T<sub>2</sub> experiment; the typical implementation is to precede a T<sub>2</sub> experiment with a T<sub>1𝞺</sub> preparation. The applied spin-lock pulse suspends any relaxation mechanisms that occur at or below the specific spin-lock pulse frequency, and once the spin-lock pulse is removed, these relaxation mechanisms will proceed (Borthakur et al. 2006). T<sub>2</sub> relaxation is sensitive to water molecule diffusion, dipole-dipole interaction and local field inhomogeneities. T<sub>1𝞺</sub> relaxation is sensitive to the same processes as T<sub>2</sub> relaxation, along with chemical exchange processes and slow rotational motions of protons associated with large macromolecules (Akella et al. 2001; Mlynárik et al. 2004; Duvvuri et al. 1997). The spin-lock pulses can be used, for example, to suppress the effect of dipolar interaction, and as a result, the T<sub>1𝞺</sub> relaxation times are longer than T<sub>2</sub> relaxation times (Regatte & Schweitzer 2008). In this example, the difference between the T<sub>1𝞺</sub> and T<sub>2</sub> relaxation times is driven by the amount of water-macromolecule interaction (Duvvuri et al. 1997).\n",
    "</p>\n",
    "\n",
    "<p style=\"text-align:justify;\">\n",
    "\n",
    "T<sub>1𝞺</sub> has been applied to many clinical applications including the breast (Santyr et al. 1989; Fairbanks et al. 1995), heart (Dixon et al. 1996; Muthupillai et al. 2004; Witschey et al. 2012; Kamesh Iyer et al. 2019), liver (Allkemper et al. 2014), brain (Aronen et al. 1999; Borthakur et al. 2008; Haris et al. 2011; Michaeli et al. 2006), and musculoskeletal systems (Li et al. 2007; Keenan et al. 2015; Johannessen et al. 2006). A particularly interesting application of T<sub>1𝞺</sub> is T<sub>1𝞺</sub> dispersion, where the spin-lock frequency is systematically varied to affect different mechanisms of relaxation in tissue. The information acquired is comparable to T<sub>1</sub> dispersion studies; however, because only B<sub>1</sub> is varied, the data can be acquired using any MRI system. The major challenge preventing adoption of T<sub>1𝞺</sub> methods is that the spin-lock pulse frequencies are limited by the specific absorption rate (SAR) (Wheaton et al. 2004).\n",
    "\n",
    "</p>\n",
    "\n",
    "</div>"
   ]
  },
  {
   "cell_type": "markdown",
   "metadata": {
    "kernel": "SoS"
   },
   "source": [
    "<div class=figure_caption>\n",
    "<p style=\"text-align:justify;\">\n",
    "<b>\n",
    "Figure 1. Simplified diagram of a T<sub>1𝞺</sub> Spin-Lock pulse sequence illustrating the tip-down RF pulse, spin-lock pulse (<i>θ</i><sub>y</sub>), the tip-up RF pulse and the crusher to dephase residual signal in the transverse plane. \n",
    "</b>\n",
    "</div>\n",
    "\n",
    "<p>\n",
    "<center><img src=\"t1rho_pulsesequence.png\" style=\"width:800px;height:auto;\"></center>"
   ]
  },
  {
   "cell_type": "markdown",
   "metadata": {
    "kernel": "SoS"
   },
   "source": [
    "<center> <h2 style=\"font-family:timesnewroman;font-size:30px\">Signal Modelling</h2> </center>"
   ]
  },
  {
   "cell_type": "markdown",
   "metadata": {
    "kernel": "SoS"
   },
   "source": [
    "<div class=blog_body>\n",
    "<p style=\"text-align:justify;\">\n",
    "In the T<sub>1𝞺</sub> experiment (Figure 1), a spin-lock pulse is applied at a frequency, ω<sub>1</sub>, which will affect some relaxation processes. The spins precess around the spin-lock axis in the rotating frame (Figure 2a), and when the spin-lock pulse is removed, the spins return to their original orientation. The spin-lock pulse will sensitize measurements to processes at or around the time scale 1/ω<sub>1</sub>. The spin-lock frequency is typically varied from 100-500 Hz at clinical field strengths. T<sub>1𝞺</sub> relaxation can be characterized by:\n",
    "</p>\n",
    "\n",
    "<p style=\"text-align:justify;\">\n",
    "<center><img src=\"equation1.png\" style=\"width:800px;height:auto;margin-bottom: 50px;margin-top: 50px;\"></center>\n",
    "</p>\n",
    "\n",
    "<p style=\"text-align:justify;\">\n",
    "where TSL is the time of the spin-lock pulse and S<sub>0</sub> is a constant, which is independent of TSL. The TSL varies from approximately 2 ms to 100 ms, depending on the tissue of interest, and it is recommended that a minimum of four TSL values be used.\n",
    "</p>\n",
    "\n",
    "<p style=\"text-align:justify;\">\n",
    "A simple T<sub>1𝞺</sub> preparation applies 90-degree RF pulse to tip into the M<sub>xy</sub> plane, followed by the spin-lock pulse applied parallel to the magnetization for duration TSL, then another 90-degree RF pulse is applied to flip the magnetization back to the longitudinal direction, and a crusher is used to dephase residual signal in the transverse plane Figure 1. However, there are several potential artifacts resulting from this simple sequence. A complete signal model of this sequence results in the following:\n",
    "</p>\n",
    "\n",
    "<p style=\"text-align:justify;\">\n",
    "<center><img src=\"equation2.png\" style=\"width:800px;height:auto;margin-bottom: 50px;margin-top: 50px;\"></center>\n",
    "</p>\n",
    "\n",
    "<p style=\"text-align:justify;\">\n",
    "where α is the actual tip-up/tip-down RF pulse flip angle, <i>θ</i> is the total flip angle during spin locking (proportional to TSL), and T<sub>2𝞺</sub> is the magnetization decay rate in the plane perpendicular to the spin-locking RF pulse. T<sub>2𝞺</sub> is not regularly studied and is beyond the scope of this discussion.\n",
    "</p>\n",
    "</div>"
   ]
  },
  {
   "cell_type": "markdown",
   "metadata": {
    "kernel": "Python3"
   },
   "source": [
    "<div class=figure_caption>\n",
    "<p style=\"text-align:justify;\">\n",
    "<b>\n",
    "Figure 2. Rotating frame representation of the T<sub>1𝞺</sub> experiment (a). In the rotating frame of reference, the spins experience an effective RF field, ω<sub>eff</sub>. Typically, the spin-lock pulse is applied on-resonance and the spins experience ω<sub>eff</sub> = ω<sub>1</sub> = ɣB<sub>1</sub>. If an off-resonance pulse is used, the spins experience ω<sub>eff</sub> = Δ + ω<sub>1</sub>, where Δ is the off-resonance component. The timing diagram (b) of a simplified T<sub>1𝞺</sub> experiment illustrating the suspension of some relaxation processes during the application of the spin-lock pulse, <i>θ</i><sub>y</sub>. After the spin-lock pulse is removed, the magnetization relaxes as a free induction decay, FID. \n",
    "</b>\n",
    "</div>\n",
    "\n",
    "<p>\n",
    "<center><img src=\"t1rho_signal_curve.png\" style=\"width:800px;height:auto;\"></center>"
   ]
  },
  {
   "cell_type": "markdown",
   "metadata": {
    "kernel": "Python3"
   },
   "source": [
    "<div class=blog_body>\n",
    "<p style=\"text-align:justify;\">\n",
    "For example, it is well documented that with this pulse sequence, B<sub>0</sub> and B<sub>1</sub> inhomogeneities can cause oscillations in the relaxation decay curve (Chen et al. 2011; Witschey et al. 2007). Simply reversing the amplitude or phase of the second half of the spin-locking pulse to create a rotary echo (Solomon 1959) is insufficient to address the B<sub>1</sub> inhomogeneities (Chen 2015; Charagundla et al. 2003). A solution is to use phase cycling to address B<sub>1</sub> inhomogeneities, and one method acquires two data sets with opposite phase of the tip-up RF pulse, which are then subtracted from each other (Chen et al. 2011). The resulting longitudinal magnetization is:\n",
    "</p>\n",
    "\n",
    "<p style=\"text-align:justify;\">\n",
    "<center><img src=\"equation3.png\" style=\"width:800px;height:auto;margin-bottom: 50px;margin-top: 50px;\"></center>\n",
    "</p>\n",
    "\n",
    "<p style=\"text-align:justify;\">\n",
    "And as result, the monoexponential decay model (Eq. 1) can be used. It should be noted that because the method requires two data sets, the scan time is doubled. However, there is no scan time penalty to incorporate this method in the 3D sequence designed by Li et al. (Li et al. 2008). Finally, to address the effect of B<sub>0</sub> and B<sub>1</sub> inhomogeneities simultaneously, it is possible to combine a composite RF pulse (Dixon et al. 1996) with the phase cycling method (Chen et al. 2011) or use the method proposed by Witschey et al. (Witschey et al. 2007) that uses four different pulse clusters: a conventional spin-lock, a B<sub>1</sub> insensitive spin-lock (Chen 2015; Charagundla et al. 2003), a ΔB<sub>0</sub> insensitive spin-lock (Zeng et al. 2006), and finally a ΔB<sub>0</sub> and B<sub>1</sub> insensitive spin-lock, which aligns the final magnetization along the z-axis.\n",
    "</p>\n",
    "\n",
    "</div>"
   ]
  },
  {
   "cell_type": "markdown",
   "metadata": {
    "kernel": "Python3"
   },
   "source": [
    "<center> <h2 style=\"font-family:timesnewroman;font-size:30px\">Data Fitting</h2> </center>"
   ]
  },
  {
   "cell_type": "markdown",
   "metadata": {
    "kernel": "Python3"
   },
   "source": [
    "<div class=blog_body>\n",
    "<p style=\"text-align:justify;\">\n",
    "T<sub>1𝞺</sub> relaxation is typically modeled and fitted using a monoexponential, Eq. 1, similar to T<sub>2</sub> relaxation, and a linear least squares fitting algorithm can be used. However, depending on the sequence, the signal model may need additional complexity to account for the effect of T<sub>2𝞺</sub> relaxation, as in Eq. 2 (Charagundla et al. 2003). An example T<sub>1𝞺</sub> relaxation map of cartilage in the knee is shown in Figure 3. The model used could also account for chemical exchange (Chopra et al. 1984) and Cobb et al (Cobb et al. 2014).\n",
    "</p>\n"
   ]
  },
  {
   "cell_type": "markdown",
   "metadata": {
    "kernel": "Python3"
   },
   "source": [
    "<div class=figure_caption>\n",
    "<p style=\"text-align:justify;\">\n",
    "<b>>\n",
    "Figure 3. An example T<sub>1𝞺</sub> relaxation map of cartilage in the knee, using a spin-lock frequency of 350 Hz, five TSLs linearly spaced from 2-82 ms, and TR/TE 3300 ms/10 ms. Reproduced with permission from (Wang et al. 2015).\n",
    "</b>\n",
    "</div>\n",
    "\n",
    "<p>\n",
    "<center><img src=\"t1rho_map.png\" style=\"width:800px;height:auto;\"></center>"
   ]
  },
  {
   "cell_type": "markdown",
   "metadata": {
    "kernel": "Python3"
   },
   "source": [
    "<div class=blog_body>\n",
    "<p style=\"text-align:justify;\">\n",
    "The linear least squares fit is appropriate when the SNR is sufficiently high. In the case of low SNR, large bias appears with both the linear and non-linear fit to Eq. 1. Several approaches have been developed to fit low SNR T<sub>2</sub>, which can also be applied to low SNR T<sub>1𝞺</sub> (Bonny et al. 1996; Raya et al. 2010; Hardy & Andersen 2009).\n",
    "</p>\n",
    "    \n",
    "<p style=\"text-align:justify;\">\n",
    "In the T<sub>1𝞺</sub> dispersion experiment, the T1ρ experiment is repeated with different spin-lock pulse frequencies, and T<sub>1𝞺</sub> relaxation is plotted against the spin-lock frequency to generate the T<sub>1𝞺</sub> dispersion curve. In tissues, T<sub>1𝞺</sub> relaxation times increase with increasing spin-lock frequencies (Duvvuri et al. 2001). The dispersion curve shape will depend on the tissue components (Duvvuri et al. 2001; Koskinen et al. 2006), and the fit to the curve can be used to characterize the tissue. For example, Koskinen et al. used a small range of spin-lock frequencies and fit the slope of 1/T<sub>1𝞺</sub> over the spin-lock frequency to characterize various rat organs (Koskinen et al. 1999; Koskinen et al. 2006), whereas 1/T<sub>1𝞺</sub> in cartilage, examined over a large range of spin-lock frequencies, was fitted using a bi-Lorentzian model (Duvvuri et al. 2001).\n",
    "</p>\n",
    "\n",
    "</div>"
   ]
  },
  {
   "cell_type": "markdown",
   "metadata": {
    "kernel": "Python3"
   },
   "source": [
    "<center> <h2 style=\"font-family:timesnewroman;font-size:30px\">Benefits and Pitfalls</h2> </center>"
   ]
  },
  {
   "cell_type": "markdown",
   "metadata": {
    "kernel": "Python3"
   },
   "source": [
    "<div class=blog_body>\n",
    "<p style=\"text-align:justify;\">\n",
    "T<sub>1𝞺</sub> is able to probe small changes in the macromolecular content using clinically available equipment. By manipulating ω<sub>1</sub> in the spin-lock pulse, it is possible to measure, for example, exchange-dependent pH changes (Cobb et al. 2012). T<sub>1𝞺</sub> has been used extensively to study the musculoskeletal system, including cartilage, meniscus and interverterbral discs. T<sub>1𝞺</sub> relaxation may be able to distinguish tumor, healthy, and adipose tissues in the breast (Santyr et al. 1989); improve delineation of myocardial borders (Dixon et al. 1996) and detect acute myocardial injuries (Muthupillai et al. 2004); and aid in detection and assessment of liver cirrhosis (Allkemper et al. 2014). Spin-lock sequences have specifically been developed for accelerated 3D acquisition in the heart (Kamesh Iyer et al. 2019). In the brain, T<sub>1𝞺</sub> relaxation was used at low field (0.1 T) with contrast to identify gliomas (Aronen et al. 1999) and at higher fields (4 T) to study macromolecules (Michaeli et al. 2006). These macromolecular changes detected by T<sub>1𝞺</sub> in the brain (in this case at 1.5 T), may be indicative of neurodegenerative diseases such as Alzheimer’s and Parkinson’s disease (Borthakur et al. 2008; Haris et al. 2011). \n",
    "</p>\n",
    "    \n",
    "<p style=\"text-align:justify;\">\n",
    "The major challenge preventing T<sub>1𝞺</sub> from adoption is that the power deposition required by spin-locking pulses approaches the clinical SAR limits. T<sub>1𝞺</sub> dispersion, in particular, has limited clinical application because of power limitations from SAR concerns. There have been pulse sequence developments to overcome these challenges through the use of parallel transmit (Chen et al. 2016), partial k-space application of the spin-lock pulse (Wheaton et al. 2004), or the use of off-resonance pulses (Santyr et al. 1994), though T<sub>1𝞺</sub>-off resonance is beyond the scope of this discussion. However, there are benefits of even very low frequency (0-400 Hz) spin-lock pulses, which are within clinical limits, to detect residual dipolar interactions in structured tissues such as oriented collagen fibers or myelinated axons (Witschey et al. 2007).\n",
    "</p>\n",
    "\n",
    "</div>"
   ]
  },
  {
   "cell_type": "markdown",
   "metadata": {
    "kernel": "Python3"
   },
   "source": [
    "<center> <h2 style=\"font-family:timesnewroman;font-size:30px\">Works Cited</h2> </center>"
   ]
  },
  {
   "cell_type": "markdown",
   "metadata": {
    "kernel": "Python3"
   },
   "source": [
    "<div class=biblio_body>\n",
    "\n",
    "<p style=\"text-align:justify;\">\n",
    "Akella, S.V.S. et al., 2001. Proteoglycan-induced changes in T<sub>1𝞺</sub>-relaxation of articular cartilage at 4T. <i>Magn. Reson. Med.</i>, 46(3), pp.419–423.\n",
    "</p>\n",
    "\n",
    "<p style=\"text-align:justify;\">\n",
    "Allkemper, T. et al., 2014. Evaluation of fibrotic liver disease with whole-liver T<sub>1𝞺</sub> MR imaging: a feasibility study at 1.5 T. <i>Radiology</i>, 271(2), pp.408–415.\n",
    "</p>\n",
    "\n",
    "<p style=\"text-align:justify;\">\n",
    "Aronen, H.J. et al., 1999. 3D spin-lock imaging of human gliomas. <i>Magn. Reson. Imaging</i>, 17(7), pp.1001–1010.\n",
    "</p>\n",
    "\n",
    "<p style=\"text-align:justify;\">\n",
    "Bonny, J.M. et al., 1996. T<sub>2</sub> maximum likelihood estimation from multiple spin-echo magnitude images. <i>Magn. Reson. Med.</i>, 36(2), pp.287–293.\n",
    "</p>\n",
    "\n",
    "<p style=\"text-align:justify;\">\n",
    "Borthakur, A. et al., 2006. Sodium and T1rho MRI for molecular and diagnostic imaging of articular cartilage. <i>NMR Biomed.</i>, 19(7), pp.781–821.\n",
    "</p>\n",
    "\n",
    "<p style=\"text-align:justify;\">\n",
    "Borthakur, A. et al., 2008. T1rho MRI of Alzheimer’s disease. <i>Neuroimage</i>, 41(4), pp.1199–1205.\n",
    "</p>\n",
    "\n",
    "<p style=\"text-align:justify;\">\n",
    "Charagundla, S.R. et al., 2003. Artifacts in T(1rho)-weighted imaging: correction with a self-compensating spin-locking pulse. <i>J. Magn. Reson.</i>, 162(1), pp.113–121.\n",
    "</p>\n",
    "\n",
    "<p style=\"text-align:justify;\">\n",
    "Chen, W., 2015. Errors in quantitative T1rho imaging and the correction methods. <i>Quant. Imaging Med. Surg.</i>, 5(4), pp.583–591.\n",
    "</p>\n",
    "\n",
    "<p style=\"text-align:justify;\">\n",
    "Chen, W., Takahashi, A. & Han, E., 2011. Quantitative T<sub>1𝞺</sub> imaging using phase cycling for B<sub>0</sub> and B<sub>1</sub> field inhomogeneity compensation. <i>Magn. Reson. Imaging</i>, 29(5), pp.608–619.\n",
    "</p>\n",
    "\n",
    "<p style=\"text-align:justify;\">\n",
    "Chen, W., Chan, Q. & Wáng, Y.-X.J., 2016. Breath-hold black blood quantitative T1rho imaging of liver using single shot fast spin echo acquisition. <i>Quant. Imaging Med. Surg.</i>, 6(2), pp.168–177.\n",
    "</p>\n",
    "\n",
    "<p style=\"text-align:justify;\">\n",
    "Chopra, S., McClung, R.E.D. & Jordan, R.B., 1984. Rotating-frame relaxation rates of solvent molecules in solutions of paramagnetic ions undergoing solvent exchange. <i>J. Magn. Reson.</i>, 59(3), pp.361–372.\n",
    "</p>\n",
    "\n",
    "<p style=\"text-align:justify;\">\n",
    "Cobb, J.G. et al., 2012. Exchange-mediated contrast agents for spin-lock imaging. <i>Magn. Reson. Med.</i>, 67(5), pp.1427–1433.\n",
    "</p>\n",
    "\n",
    "\n",
    "<p style=\"text-align:justify;\">\n",
    "Cobb, J.G. et al., 2014. Exchange-mediated contrast in CEST and spin-lock imaging. <i>Magn. Reson. Imaging</i>, 32(1), pp.28–40.\n",
    "</p>\n",
    "\n",
    "<p style=\"text-align:justify;\">\n",
    "Dixon, W.T. et al., 1996. Myocardial suppressionin vivo by spin locking with composite pulses. <i>Magn. Reson. Med.</i>, 36(1), pp.90–94.\n",
    "</p>\n",
    "\n",
    "<p style=\"text-align:justify;\">\n",
    "Duvvuri, U. et al., 1997. T<sub>1𝞺</sub>-relaxation in articular cartilage: Effects of enzymatic degradation. <i>Magn. Reson. Med.</i>, 38(6), pp.863–867.\n",
    "</p>\n",
    "\n",
    "<p style=\"text-align:justify;\">\n",
    "Duvvuri, U. et al., 2001. Water magnetic relaxation dispersion in biological systems: the contribution of proton exchange and implications for the noninvasive detection of cartilage degradation. <i>Proc. Natl. Acad. Sci. U.S.A.</i>, 98(22), pp.12479–12484.\n",
    "</p>\n",
    "\n",
    "<p style=\"text-align:justify;\">\n",
    "Fairbanks, E.J., Santyr, G.E. & Sorenson, J.A., 1995. One-shot measurement of spin-lattice relaxation times in the off-resonance rotating frame using MR imaging, with application to breast. <i>J. Magn. Reson. B</i>, 106(3), pp.279–283.\n",
    "</p>\n",
    "\n",
    "<p style=\"text-align:justify;\">\n",
    "Hardy, P.A. & Andersen, A.H., 2009. Calculating T<sub>2</sub> in images from a phased array receiver. <i>Magn. Reson. Med.</i>, 61(4), pp.962–969.\n",
    "</p>\n",
    "\n",
    "<p style=\"text-align:justify;\">\n",
    "Haris, M. et al., 2011. T1rho (T<sub>1𝞺</sub>) MR imaging in Alzheimer’s disease and Parkinson's disease with and without dementia. <i>J. Neurol.</i>, 258(3), pp.380–385.\n",
    "</p>\n",
    "\n",
    "<p style=\"text-align:justify;\">\n",
    "Johannessen, W. et al., 2006. Assessment of human disc degeneration and proteoglycan content using T1rho-weighted magnetic resonance imaging. <i>Spine</i>, 31(11), pp.1253–1257.\n",
    "</p>\n",
    "\n",
    "<p style=\"text-align:justify;\">\n",
    "Jones, G.P., 1966. Spin-Lattice Relaxation in the Rotating Frame: Weak-Collision Case. <i>Phys. Rev.</i>, 148(1), pp.332–335.\n",
    "</p>\n",
    "\n",
    "<p style=\"text-align:justify;\">\n",
    "Kamesh Iyer, S. et al., 2019. Accelerated free-breathing 3D T<sub>1𝞺</sub> cardiovascular magnetic resonance using multicoil compressed sensing. <i>J. Cardiovasc. Magn. Reson.</i>, 21(1), p.5.\n",
    "</p>\n",
    "\n",
    "<p style=\"text-align:justify;\">\n",
    "Keenan, K.E. et al., 2015. T<sub>1𝞺</sub> Dispersion in Articular Cartilage: Relationship to Material Properties and Macromolecular Content. <i>Cartilage</i>, 6(2), pp.113–122.\n",
    "</p>\n",
    "\n",
    "<p style=\"text-align:justify;\">\n",
    "Koenig, S.H. & Brown, R.D., 3rd, 1984. Determinants of proton relaxation rates in tissue. <i>Magn. Res. in Med.</i>, 1(4), pp.437–449.\n",
    "</p>\n",
    "\n",
    "<p style=\"text-align:justify;\">\n",
    "Koskinen, S.K. et al., 2006. T1rho Dispersion profile of rat tissues in vitro at very low locking fields. <i>Magn. Reson. Imaging</i>, 24(3), pp.295–299.\n",
    "</p>\n",
    "\n",
    "<p style=\"text-align:justify;\">\n",
    "Koskinen, S.K. et al., 1999. T<sub>1𝞺</sub> dispersion of rat tissues in vitro. <i>Magn. Reson. Imaging</i>, 17(7), pp.1043–1047.\n",
    "</p>\n",
    "\n",
    "<p style=\"text-align:justify;\">\n",
    "Li, X. et al., 2007. In vivo T(1rho) and T(2) mapping of articular cartilage in osteoarthritis of the knee using 3 T MRI. <i>Osteoarthritis Cartilage</i>, 15(7), pp.789–797.\n",
    "</p>\n",
    "\n",
    "<p style=\"text-align:justify;\">\n",
    "Li, X. et al., 2008. In vivo T(1rho) mapping in cartilage using 3D magnetization-prepared angle-modulated partitioned k-space spoiled gradient echo snapshots (3D MAPSS). <i>Magn. Reson. Med.</i>, 59(2), pp.298–307.\n",
    "</p>\n",
    "\n",
    "<p style=\"text-align:justify;\">\n",
    "Michaeli, S. et al., 2006. T1rho MRI contrast in the human brain: modulation of the longitudinal rotating frame relaxation shutter-speed during an adiabatic RF pulse. <i>J. Magn. Reson.</i>, 181(1), pp.135–147.\n",
    "</p>\n",
    "\n",
    "<p style=\"text-align:justify;\">\n",
    "Mlynárik, V. et al., 2004. Transverse relaxation mechanisms in articular cartilage. <i>J. Magn. Reson.</i>, 169(2), pp.300–307.\n",
    "</p>\n",
    "\n",
    "<p style=\"text-align:justify;\">\n",
    "Muthupillai, R. et al., 2004. Acute myocardial infarction: tissue characterization with T1rho-weighted MR imaging--initial experience. <i>Radiology</i>, 232(2), pp.606–610.\n",
    "</p>\n",
    "\n",
    "<p style=\"text-align:justify;\">\n",
    "Raya, J.G. et al., 2010. T<sub>2</sub> measurement in articular cartilage: impact of the fitting method on accuracy and precision at low SNR. <i>Magn. Reson. Med.</i>, 63(1), pp.181–193.\n",
    "</p>\n",
    "\n",
    "<p style=\"text-align:justify;\">\n",
    "Redfield, A.G., 1955. Nuclear Magnetic Resonance Saturation and Rotary Saturation in Solids. <i>Phys. Rev.</i>, 98(6), pp.1787–1809.\n",
    "</p>\n",
    "\n",
    "<p style=\"text-align:justify;\">\n",
    "Regatte, R.R. & Schweitzer, M.E., 2008. Novel contrast mechanisms at 3 Tesla and 7 Tesla. <i>Semin. Musculoskelet. Radiol.</i>, 12(3), pp.266–280.\n",
    "</p>\n",
    "\n",
    "<p style=\"text-align:justify;\">\n",
    "Santyr, G.E., Henkelman, R.M. & Bronskill, M.J., 1989. Spin locking for magnetic resonance imaging with application to human breast. <i>Magn. Reson. Med.</i>, 12(1), pp.25–37.\n",
    "</p>\n",
    "\n",
    "<p style=\"text-align:justify;\">\n",
    "Santyr, G.E. et al., 1994. Off-resonance spin locking for MR imaging. <i>Magn. Reson. Med.</i>, 32(1), pp.43–51\n",
    "</p>\n",
    "\n",
    "<p style=\"text-align:justify;\">\n",
    "Solomon, I., 1959. Rotary Spin Echoes. <i>Phys. Rev. Lett.</i>, 2(7), pp.301–302.\n",
    "</p>\n",
    "\n",
    "<p style=\"text-align:justify;\">\n",
    "Wang, P., Block, J. & Gore, J.C., 2015. Chemical exchange in knee cartilage assessed by R<sub>1𝞺</sub> (1/T<sub>1𝞺</sub>) dispersion at 3T. <i>Magn. Reson. Imaging</i>, 33(1), pp.38–42.\n",
    "</p>\n",
    "\n",
    "<p style=\"text-align:justify;\">\n",
    "Wheaton, A.J. et al., 2004. Method for reduced SAR T1rho-weighted MRI. <i>Magn. Reson. Med.</i>, 51(6), pp.1096–1102.\n",
    "</p>\n",
    "\n",
    "<p style=\"text-align:justify;\">\n",
    "Witschey, W.R.T., 2nd et al., 2007. Artifacts in T1 rho-weighted imaging: compensation for B(1) and B(0) field imperfections. <i>J. Magn. Reson.</i>, 186(1), pp.75–85.\n",
    "</p>\n",
    "\n",
    "<p style=\"text-align:justify;\">\n",
    "Witschey, W.R.T. et al., 2012. In vivo chronic myocardial infarction characterization by spin locked cardiovascular magnetic resonance. <i>J. Cardiovasc. Magn. Reson.</i>, 14, p.37.\n",
    "</p>\n",
    "\n",
    "<p style=\"text-align:justify;\">\n",
    "Zeng, H. et al., 2006. A composite spin-lock pulse for deltaB0 + B1 insensitive T1rho measurement. <i>In Proceedings of the 14th Annual Meeting of ISMRM</i>, Seattle, Washington, USA. p. 2356.\n",
    "</p>\n",
    "\n",
    "</div>"
   ]
  },
  {
   "cell_type": "code",
   "execution_count": 1,
   "metadata": {
    "kernel": "Python3"
   },
   "outputs": [
    {
     "data": {
      "text/html": [
       "<style type=\"text/css\">.output_subarea {display: block;margin-left: auto;margin-right: auto;}.blog_body {line-height: 2;font-family: timesnewroman;font-size: 18px;margin-left: 0px;margin-right: 0px;}.biblio_body {line-height: 1.5;font-family: timesnewroman;font-size: 18px;margin-left: 0px;margin-right: 0px;}.note_body {line-height: 1.25;font-family: timesnewroman;font-size: 18px;margin-left: 0px;margin-right: 0px;color: #696969}.figure_caption {line-height: 1.5;font-family: timesnewroman;font-size: 16px;margin-left: 0px;margin-right: 0px</style>"
      ],
      "text/plain": [
       "<IPython.core.display.HTML object>"
      ]
     },
     "metadata": {},
     "output_type": "display_data"
    }
   ],
   "source": [
    "# PYTHON CODE\n",
    "from IPython.core.display import display, HTML\n",
    "display(HTML(\n",
    "    '<style type=\"text/css\">'\n",
    "    '.output_subarea {'\n",
    "        'display: block;'\n",
    "        'margin-left: auto;'\n",
    "        'margin-right: auto;'\n",
    "    '}'\n",
    "    '.blog_body {'\n",
    "        'line-height: 2;'\n",
    "        'font-family: timesnewroman;'\n",
    "        'font-size: 18px;'\n",
    "        'margin-left: 0px;'\n",
    "        'margin-right: 0px;'\n",
    "    '}'\n",
    "    '.biblio_body {'\n",
    "        'line-height: 1.5;'\n",
    "        'font-family: timesnewroman;'\n",
    "        'font-size: 18px;'\n",
    "        'margin-left: 0px;'\n",
    "        'margin-right: 0px;'\n",
    "    '}'\n",
    "    '.note_body {'\n",
    "        'line-height: 1.25;'\n",
    "        'font-family: timesnewroman;'\n",
    "        'font-size: 18px;'\n",
    "        'margin-left: 0px;'\n",
    "        'margin-right: 0px;'\n",
    "        'color: #696969'\n",
    "    '}'\n",
    "    '.figure_caption {'\n",
    "        'line-height: 1.5;'\n",
    "        'font-family: timesnewroman;'\n",
    "        'font-size: 16px;'\n",
    "        'margin-left: 0px;'\n",
    "        'margin-right: 0px'\n",
    "    '</style>'\n",
    "))"
   ]
  },
  {
   "cell_type": "code",
   "execution_count": null,
   "metadata": {
    "kernel": "Python3"
   },
   "outputs": [],
   "source": []
  }
 ],
 "metadata": {
  "celltoolbar": "Tags",
  "kernelspec": {
   "display_name": "SoS",
   "language": "sos",
   "name": "sos"
  },
  "language_info": {
   "codemirror_mode": "sos",
   "file_extension": ".sos",
   "mimetype": "text/x-sos",
   "name": "sos",
   "nbconvert_exporter": "sos_notebook.converter.SoS_Exporter",
   "pygments_lexer": "sos"
  },
  "sos": {
   "kernels": [
    [
     "Octave",
     "octave",
     "Octave",
     "#dff8fb"
    ],
    [
     "Python3",
     "python3",
     "Python3",
     "#FFD91A"
    ]
   ],
   "panel": {
    "displayed": true,
    "height": 0,
    "style": "side"
   },
   "version": "0.17.2"
  }
 },
 "nbformat": 4,
 "nbformat_minor": 2
}
