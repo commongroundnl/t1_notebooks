{
 "cells": [
  {
   "cell_type": "markdown",
   "metadata": {
    "kernel": "SoS",
    "tags": [
     "scratch"
    ]
   },
   "source": [
    "# Welcome to a qMRLab interactive blog post Jupyter Notebook!\n",
    "\n",
    "If this is your first time running a Juptyer Notebook, there's a lot of tutorials available online to help. [Here's one](https://www.dataquest.io/blog/jupyter-notebook-tutorial/) for your convenience.\n",
    "\n",
    "## Introduction\n",
    "\n",
    "This notebook contains everything needed to reproduce the Inversion Recovery T<sub>1</sub> blog post on the [qMRLab website](). In fact, this notebook generated the HTML for the blog post too! This notebook is currently running on a MyBinder server that only you can access, but if you want to be kept up-to-date on any changes that the developpers make to this notebook, you should go to it's [GitHub repository](https://github.com/qMRLab/t1_notebooks) and follow it by clicking the \"Watch\" button in the top right (you may need to create a GitHub account, if you don't have one already).\n",
    "\n",
    "## Tips\n",
    "\n",
    "Here's a few things you can do in this notebook\n",
    "\n",
    "### Code\n",
    "* Run the entire processing by clicking above on the \"Kernel\" tab, then \"Restart & Run All\". It will be complete when none of the cells have an asterix \"\\*\" in the square brackets.\n",
    "* To change the code, you need to click once on code cells. To re-run that cell, click the \"Run\" button above when the cell is selected.\n",
    "  * **Note:** Cells can depend on previous cells, or even on previous runs of the cell itself, so it's best to run all the previous cells beforehand.\n",
    "* This binder runs on SoS, which allows the mixing of Octave (i.e. an open-source MATLAB) and Python cells. Take a look a the drop down menu on the top right of the cells to know which one you are running.\n",
    "* To transfer data from cells of one language to another, you need to create a new cell in the incoming language and run `%get (param name) --from (outgoing language)`. See cells below for several examples within this notebook.\n",
    "\n",
    "### HTML\n",
    "* To reproduce the HTML of the blog post, run the entire processing pipeline (see point one in the previous section), then save the notebook (save icon, top left). Now, click on the drop down menu on the left pannel, and select `%sossave --to html --force` . After a few seconds, it should output \"Workflow saved to InversionRecovery.html\" – click on the HTML name, and you're done!\n",
    "* Cells with tags called \"scratch\" are not displayed in the generated HTML.\n",
    "* Cells with the tag \"report_output\" display the output (e.g. figures) in the generated HTML.\n",
    "* Currently in an un-run notebook, the HTML is not formatted like the website. To do so, run the Python module import cell (`# Module imports`) and then very last cell (`display(HTML(...`).\n",
    "\n",
    "**If you have any other questions or comments, please raise them in a [GitHub issue](https://github.com/qMRLab/t1_notebooks/issues).**"
   ]
  },
  {
   "cell_type": "markdown",
   "metadata": {
    "kernel": "SoS",
    "tags": [
     "scratch"
    ]
   },
   "source": [
    "# Note\n",
    "\n",
    "The following cell is meant to be displayed for instructional purposes in the blog post HTML when \"All cells\" gets displayed (i.e. the Octave code)."
   ]
  },
  {
   "cell_type": "code",
   "execution_count": null,
   "metadata": {
    "kernel": "Octave"
   },
   "outputs": [],
   "source": [
    "% **Blog post code introduction**\n",
    "% \n",
    "% Congrats on activating the \"All cells\" option in this interactive blog post =D\n",
    "%\n",
    "% Below, several new HTML blocks have appears prior to the figures, displaying the Octave/MATLAB code that was used to generate the figures in this blog post.\n",
    "%\n",
    "% If you want to reproduce the data on your own local computer, you simply need to have qMRLab installed in your Octave/MATLAB path and run the \"startup.m\" file, as is shown below.\n",
    "%\n",
    "% If you want to get under the hood and modify the code right now, you can do so in the Jupyter Notebook of this blog post hosted on MyBinder. The link to it is in the introduction above."
   ]
  },
  {
   "cell_type": "code",
   "execution_count": null,
   "metadata": {
    "kernel": "Python3",
    "tags": [
     "scratch"
    ]
   },
   "outputs": [],
   "source": [
    "# PYTHON CODE\n",
    "# Module imports\n",
    "\n",
    "import matplotlib.pyplot as plt\n",
    "import plotly.plotly as py\n",
    "import plotly.graph_objs as go\n",
    "import numpy as np\n",
    "from plotly import __version__\n",
    "from plotly.offline import download_plotlyjs, init_notebook_mode, plot, iplot\n",
    "config={'showLink': False, 'displayModeBar': False}\n",
    "\n",
    "init_notebook_mode(connected=True)\n",
    "\n",
    "from IPython.core.display import display, HTML"
   ]
  },
  {
   "cell_type": "markdown",
   "metadata": {
    "kernel": "SoS"
   },
   "source": [
    "<center><h1 style=\"font-family: timesnewroman;font-size: 40px;\">Variable Flip Angle T<sub>1</sub> Mapping</h1></center>\n",
    "<p>"
   ]
  },
  {
   "cell_type": "markdown",
   "metadata": {
    "kernel": "SoS"
   },
   "source": [
    "<div class=blog_body>\n",
    "<p style=\"text-align:justify;\">\n",
    "VFA general discussion. Pulse sequence discussion.\n",
    "</p>\n",
    "\n",
    "<p style=\"text-align:justify;\">\n",
    "Applications discussion\n",
    "</p>\n",
    "</div>"
   ]
  },
  {
   "cell_type": "markdown",
   "metadata": {
    "kernel": "SoS"
   },
   "source": [
    "<div class=figure_caption>\n",
    "<center>\n",
    "<b style=\"text-align:justify;\">\n",
    "Figure 1.  Pulse sequence of an variable flip angle experiment.\n",
    "</b>\n",
    "</center>\n",
    "</div>\n",
    "\n",
    "<p>\n",
    "<center><img src=\"vfa_pulsesequence.png\" style=\"width:500px;height:auto;\"></center>"
   ]
  },
  {
   "cell_type": "markdown",
   "metadata": {
    "kernel": "SoS"
   },
   "source": [
    "<center> <h2 style=\"font-family:timesnewroman;font-size:30px\">Signal Modelling</h2> </center>"
   ]
  },
  {
   "cell_type": "markdown",
   "metadata": {
    "kernel": "SoS"
   },
   "source": [
    "<div class=blog_body>\n",
    "<p style=\"text-align:justify;\">\n",
    "The steady-state longitudinal magnetization of a variable flipe angle experiment can be derived from the Bloch equations for the pulse sequence {θ – TR – θ}, and is given by the Ersnt equation:\n",
    "\n",
    "</p>\n",
    "\n",
    "<p style=\"text-align:justify;\">\n",
    "<center><img src=\"equation1.png\" style=\"width:auto;height:50px;margin-bottom: 50px;margin-top: 50px;\"></center>\n",
    "</p>\n",
    "\n",
    "\n",
    "</div>"
   ]
  },
  {
   "cell_type": "markdown",
   "metadata": {
    "kernel": "Python3"
   },
   "source": [
    "<div class=figure_caption>\n",
    "<p style=\"text-align:justify;\">\n",
    "<b>\n",
    "Figure 2. Variable flip angle steady state signal curves (Eq. 2) for three different T<sub>1</sub> values, approximating the main types of tissue in the brain. TR values range from 5 to 200 ms (slider).\n",
    "</b>\n",
    "</p>\n",
    "</div>"
   ]
  },
  {
   "cell_type": "code",
   "execution_count": null,
   "metadata": {
    "kernel": "Octave"
   },
   "outputs": [],
   "source": [
    "%% MATLAB/OCTAVE CODE\n",
    "% Adds qMRLab to the path of the environment\n",
    "\n",
    "cd ../qMRLab\n",
    "startup"
   ]
  },
  {
   "cell_type": "code",
   "execution_count": null,
   "metadata": {
    "kernel": "Octave"
   },
   "outputs": [],
   "source": [
    "%% MATLAB/OCTAVE CODE\n",
    "% Code used to generate the data required for Figure 4 of the blog post\n",
    "\n",
    "clear all\n",
    "\n",
    "%% Setup parameters\n",
    "% All times are in milliseconds\n",
    "% All flip angles are in degrees\n",
    "\n",
    "TR_range = 5:5:200;\n",
    "\n",
    "params.EXC_FA = 1:90;\n",
    "\n",
    "%% Calculate signals\n",
    "%\n",
    "% To see all the options available, run `help vfa_t1.analytical_solution`\n",
    "\n",
    "for ii = 1:length(TR_range)\n",
    "    params.TR = TR_range(ii);\n",
    "    \n",
    "    % White matter\n",
    "    params.T1 = 900; % in milliseconds\n",
    "\n",
    "    signal_WM(ii,:) = vfa_t1.analytical_solution(params);\n",
    "\n",
    "    % Grey matter\n",
    "    params.T1 = 1500;  % in milliseconds\n",
    "    signal_GM(ii,:) = vfa_t1.analytical_solution(params);\n",
    "\n",
    "    % CSF\n",
    "    params.T1 = 4000;  % in milliseconds\n",
    "    signal_CSF(ii,:) = vfa_t1.analytical_solution(params);\n",
    "end\n"
   ]
  },
  {
   "cell_type": "code",
   "execution_count": null,
   "metadata": {
    "kernel": "Python3",
    "tags": [
     "scratch"
    ]
   },
   "outputs": [],
   "source": [
    "%get params --from Octave\n",
    "%get TR_range --from Octave\n",
    "%get signal_WM --from Octave\n",
    "%get signal_GM --from Octave\n",
    "%get signal_CSF --from Octave"
   ]
  },
  {
   "cell_type": "code",
   "execution_count": null,
   "metadata": {
    "kernel": "Python3",
    "tags": [
     "report_output",
     "scratch"
    ]
   },
   "outputs": [],
   "source": [
    "# PYTHON CODE\n",
    "\n",
    "init_notebook_mode(connected=True)\n",
    "\n",
    "data1 = [dict(\n",
    "        visible = False,\n",
    "        mode = 'lines',\n",
    "        x = params[\"EXC_FA\"],\n",
    "        y = abs(np.squeeze(np.asarray(signal_WM[ii]))),\n",
    "        name = 'T<sub>1</sub> = 0.9 s (White Matter)',\n",
    "        text = 'T<sub>1</sub> = 0.9 s (White Matter)',\n",
    "        hoverinfo = 'x+y+text') for ii in range(len(TR_range))]\n",
    "\n",
    "data1[4]['visible'] = True\n",
    "\n",
    "data2 = [dict(\n",
    "        visible = False,\n",
    "        mode = 'lines',\n",
    "        x = params[\"EXC_FA\"],\n",
    "        y = abs(np.squeeze(np.asarray(signal_GM[ii]))),\n",
    "        name = 'T<sub>1</sub> = 1.5 s (Grey Matter)',\n",
    "        text = 'T<sub>1</sub> = 1.5 s (Grey Matter)',\n",
    "        hoverinfo = 'x+y+text') for ii in range(len(TR_range))]\n",
    "\n",
    "data2[4]['visible'] = True\n",
    "\n",
    "data3 = [dict(\n",
    "        visible = False,\n",
    "        mode = 'lines',\n",
    "        x = params[\"EXC_FA\"],\n",
    "        y = abs(np.squeeze(np.asarray(signal_CSF[ii]))),\n",
    "        name = 'T<sub>1</sub> = 4.0 s (Cerebrospinal Fluid)',\n",
    "        text = 'T<sub>1</sub> = 4.0 s (Cerebrospinal Fluid)',\n",
    "        hoverinfo = 'x+y+text') for ii in range(len(TR_range))]\n",
    "\n",
    "data3[4]['visible'] = True\n",
    "\n",
    "data = data1 + data2 + data3\n",
    "\n",
    "steps = []\n",
    "for i in range(len(TR_range)):\n",
    "    step = dict(\n",
    "        method = 'restyle',  \n",
    "        args = ['visible', [False] * len(data1)],\n",
    "        label = str(TR_range[i])\n",
    "        )\n",
    "    step['args'][1][i] = True # Toggle i'th trace to \"visible\"\n",
    "    steps.append(step)\n",
    "\n",
    "sliders = [dict(\n",
    "    x = 0,\n",
    "    y = -0.02,\n",
    "    active = 2,\n",
    "    currentvalue = {\"prefix\": \"TR value (ms): <b>\"},\n",
    "    pad = {\"t\": 50, \"b\": 10},\n",
    "    steps = steps\n",
    ")]\n",
    "\n",
    "layout = go.Layout(\n",
    "    width=580,\n",
    "    height=450,\n",
    "    margin=go.layout.Margin(\n",
    "        l=80,\n",
    "        r=40,\n",
    "        b=60,\n",
    "        t=10,\n",
    "    ),\n",
    "    annotations=[\n",
    "        dict(\n",
    "            x=0.5004254919715793,\n",
    "            y=-0.18,\n",
    "            showarrow=False,\n",
    "            text='Excitation Flip Angle (°)',\n",
    "            font=dict(\n",
    "                family='Times New Roman',\n",
    "                size=22\n",
    "            ),\n",
    "            xref='paper',\n",
    "            yref='paper'\n",
    "        ),\n",
    "        dict(\n",
    "            x=-0.15,\n",
    "            y=0.5,\n",
    "            showarrow=False,\n",
    "            text='Long. Magnetization (M<sub>z</sub>)',\n",
    "            font=dict(\n",
    "                family='Times New Roman',\n",
    "                size=22\n",
    "            ),\n",
    "            textangle=-90,\n",
    "            xref='paper',\n",
    "            yref='paper'\n",
    "        ),\n",
    "    ],\n",
    "    xaxis=dict(\n",
    "        autorange=False,\n",
    "        range=[0, params['EXC_FA'][-1]],\n",
    "        showgrid=False,\n",
    "        linecolor='black',\n",
    "        linewidth=2\n",
    "    ),\n",
    "    yaxis=dict(\n",
    "        autorange=True,\n",
    "        showgrid=False,\n",
    "        linecolor='black',\n",
    "        linewidth=2\n",
    "    ),\n",
    "    legend=dict(\n",
    "        x=0.5,\n",
    "        y=0.9,\n",
    "        traceorder='normal',\n",
    "        font=dict(\n",
    "            family='Times New Roman',\n",
    "            size=12,\n",
    "            color='#000'\n",
    "        ),\n",
    "        bordercolor='#000000',\n",
    "        borderwidth=2\n",
    "    ), \n",
    "    sliders=sliders\n",
    ")\n",
    "\n",
    "fig = dict(data=data, layout=layout)\n",
    "\n",
    "iplot(fig, filename = 'basic-line', config = config)"
   ]
  },
  {
   "cell_type": "markdown",
   "metadata": {
    "kernel": "Python3"
   },
   "source": [
    "<div class=blog_body>\n",
    "<p style=\"text-align:justify;\">\n",
    "Discuss approximatinos, ways to  fits, etc\n",
    "</p>\n",
    "\n",
    "<p style=\"text-align:justify;\">\n",
    "<center><img src=\"equation2.png\" style=\"width:auto;height:50px;margin-bottom: 50px;margin-top: 50px\"></center>\n",
    "</p>\n",
    "\n",
    "<p style=\"text-align:justify;\">\n",
    "Discuss approximatinos, ways to  fits, etc\n",
    "</p>\n",
    "\n",
    "<p style=\"text-align:justify;\">\n",
    "<center><img src=\"equation3.png\" style=\"width:auto;height:50px;margin-bottom: 50px;margin-top: 50px\"></center>\n",
    "</p>\n",
    "\n",
    "</div>"
   ]
  },
  {
   "cell_type": "markdown",
   "metadata": {
    "kernel": "Python3"
   },
   "source": [
    "<div class=blog_body>\n",
    "<p style=\"text-align:justify;\">\n",
    "Figure 5 displays an example brain dataset from an inversion recovery experiment, along with the T<sub>1</sub> map fitted using the RD-NLS technique.\n",
    "</p>\n",
    "</div>"
   ]
  },
  {
   "cell_type": "markdown",
   "metadata": {
    "kernel": "Python3"
   },
   "source": [
    "<div class=figure_caption>\n",
    "<p style=\"text-align:justify;\">\n",
    "<b>\n",
    "Figure 5. Figure 5. Example variable flip angle dataset of a healthy adult brain (left).\n",
    "</b>\n",
    "</div>"
   ]
  },
  {
   "cell_type": "code",
   "execution_count": null,
   "metadata": {
    "kernel": "Octave"
   },
   "outputs": [],
   "source": [
    "%% MATLAB/OCTAVE CODE\n",
    "% Download inversion recovery brain MRI data for Figure 5 of the blog post\n",
    "\n",
    "cmd = ['curl -L -o ir_brain.zip https://osf.io/ezv74/download/'];\n",
    "[STATUS,MESSAGE] = unix(cmd);\n",
    "unzip('ir_brain.zip');\n"
   ]
  },
  {
   "cell_type": "code",
   "execution_count": null,
   "metadata": {
    "kernel": "Octave"
   },
   "outputs": [],
   "source": [
    "%% MATLAB/OCTAVE CODE\n",
    "% Code used to generate the data required for Figure 5 of the blog post\n",
    "\n",
    "clear all\n",
    "\n",
    "% Load data into environment, and rotate mask to be aligned with IR data\n",
    "load('IRData.mat');\n",
    "load('IRMask.mat');\n",
    "\n",
    "IRData = data;\n",
    "Mask = imrotate(Mask,180);\n",
    "clear data\n",
    "\n",
    "% Format qMRLab inversion_recovery model parameters, and load them into the Model object\n",
    "Model = inversion_recovery; \n",
    "TI = [30; 530; 1030; 1530];\n",
    "Model.Prot.IRData.Mat = [TI];\n",
    "\n",
    "% Format data structure so that they may be fit by the model\n",
    "data = struct();\n",
    "data.IRData= double(IRData);\n",
    "data.Mask= double(Mask);\n",
    "\n",
    "FitResults = FitData(data,Model,0); % The '0' flag is so that no wait bar is shown."
   ]
  },
  {
   "cell_type": "code",
   "execution_count": null,
   "metadata": {
    "kernel": "Octave"
   },
   "outputs": [],
   "source": [
    "%% MATLAB/OCTAVE CODE\n",
    "% Code used to re-orient the images to make pretty figures, and to assign variables with the axis lengths.\n",
    "\n",
    "T1_map = imrotate(FitResults.T1.*Mask,-90);\n",
    "xAxis = [0:size(T1_map,2)-1];\n",
    "yAxis = [0:size(T1_map,1)-1];\n",
    "\n",
    "% Raw MRI data at different TI values\n",
    "TI_0030 = imrotate(squeeze(IRData(:,:,:,1).*Mask),-90);\n",
    "TI_0530 = imrotate(squeeze(IRData(:,:,:,2).*Mask),-90);\n",
    "TI_1030 = imrotate(squeeze(IRData(:,:,:,3).*Mask),-90);\n",
    "TI_1530 = imrotate(squeeze(IRData(:,:,:,4).*Mask),-90);"
   ]
  },
  {
   "cell_type": "code",
   "execution_count": null,
   "metadata": {
    "kernel": "Python3",
    "tags": [
     "scratch"
    ]
   },
   "outputs": [],
   "source": [
    "%get T1_map --from Octave\n",
    "%get TI_0030 --from Octave\n",
    "%get TI_0530 --from Octave\n",
    "%get TI_1030 --from Octave\n",
    "%get TI_1530 --from Octave\n",
    "%get xAxis --from Octave\n",
    "%get yAxis --from Octave"
   ]
  },
  {
   "cell_type": "code",
   "execution_count": null,
   "metadata": {
    "kernel": "Python3",
    "tags": [
     "report_output",
     "scratch"
    ]
   },
   "outputs": [],
   "source": [
    "from plotly import tools\n",
    "trace1 = go.Heatmap(x = xAxis,\n",
    "                   y = yAxis,\n",
    "                   z=TI_0030,\n",
    "                   colorscale='Greys',\n",
    "                   showscale = False,\n",
    "                   visible=False,\n",
    "                   name = 'Signal')\n",
    "trace2 = go.Heatmap(x = xAxis,\n",
    "                   y = yAxis,\n",
    "                   z=TI_0530,\n",
    "                   colorscale='Greys',\n",
    "                   showscale = False,\n",
    "                   visible=False,\n",
    "                   name = 'Signal')\n",
    "trace3 = go.Heatmap(x = xAxis,\n",
    "                   y = yAxis,\n",
    "                   z=TI_1030,\n",
    "                   colorscale='Greys',\n",
    "                   showscale = False,\n",
    "                   visible=True,\n",
    "                   name = 'Signal')\n",
    "trace4 = go.Heatmap(x = xAxis,\n",
    "                   y = yAxis,\n",
    "                   z=TI_1530,\n",
    "                   colorscale='Greys',\n",
    "                   visible=False,\n",
    "                   showscale = False,\n",
    "                   name = 'Signal')\n",
    "trace5 = go.Heatmap(x = xAxis,\n",
    "                   y = yAxis,\n",
    "                   z=T1_map,\n",
    "                   colorscale='Portland',\n",
    "                   xaxis='x2',\n",
    "                   yaxis='y2',\n",
    "                   visible=True,\n",
    "                   name = 'T1 values (ms)')\n",
    "\n",
    "data=[trace1, trace2, trace3, trace4, trace5]\n",
    "\n",
    "\n",
    "updatemenus = list([\n",
    "    dict(active=2,\n",
    "         x = 0.12,\n",
    "         xanchor = 'left',\n",
    "         y = -0.15,\n",
    "         yanchor = 'bottom',\n",
    "         direction = 'up',\n",
    "         font=dict(\n",
    "                family='Times New Roman',\n",
    "                size=16\n",
    "            ),\n",
    "         buttons=list([   \n",
    "            dict(label = '30 ms',\n",
    "                 method = 'update',\n",
    "                 args = [{'visible': [True, False, False, False, True]},\n",
    "                         ]),\n",
    "            dict(label = '530 ms',\n",
    "                 method = 'update',\n",
    "                 args = [{'visible': [False, True, False, False, True]},\n",
    "                         ]),\n",
    "            dict(label = '1030 ms',\n",
    "                 method = 'update',\n",
    "                 args = [{'visible': [False, False, True, False, True]},\n",
    "                         ]),\n",
    "            dict(label = '1530 ms',\n",
    "                 method = 'update',\n",
    "                 args = [{'visible': [False,False, False, True, True]},\n",
    "                         ])\n",
    "        ]),\n",
    "    )\n",
    "])\n",
    "\n",
    "layout = dict(\n",
    "    width=560,\n",
    "    height=345,\n",
    "    margin = dict(\n",
    "                t=40,\n",
    "                r=50,\n",
    "                b=10,\n",
    "                l=50),\n",
    "    annotations=[\n",
    "        dict(\n",
    "            x=0.06,\n",
    "            y=1.15,\n",
    "            showarrow=False,\n",
    "            text='MR Image',\n",
    "            font=dict(\n",
    "                family='Times New Roman',\n",
    "                size=26\n",
    "            ),\n",
    "            xref='paper',\n",
    "            yref='paper'\n",
    "        ),\n",
    "        dict(\n",
    "            x=0.6,\n",
    "            y=1.15,\n",
    "            showarrow=False,\n",
    "            text='T<sub>1</sub> map',\n",
    "            font=dict(\n",
    "                family='Times New Roman',\n",
    "                size=26\n",
    "            ),\n",
    "            xref='paper',\n",
    "            yref='paper'\n",
    "        ),\n",
    "        dict(\n",
    "            x=1.22,\n",
    "            y=1.15,\n",
    "            showarrow=False,\n",
    "            text='T<sub>1</sub> (ms)',\n",
    "            font=dict(\n",
    "                family='Times New Roman',\n",
    "                size=26\n",
    "            ),\n",
    "            xref='paper',\n",
    "            yref='paper'\n",
    "        ),\n",
    "        dict(\n",
    "            x=0.02,\n",
    "            y=-0.15,\n",
    "            showarrow=False,\n",
    "            text='TI:',\n",
    "            font=dict(\n",
    "                family='Times New Roman',\n",
    "                size=22\n",
    "            ),\n",
    "            xref='paper',\n",
    "            yref='paper'\n",
    "        ),\n",
    "    ],\n",
    "    xaxis = dict(range = [0,127], autorange = False,\n",
    "             showgrid = False, zeroline = False, showticklabels = False,\n",
    "             ticks = '', domain=[0, 0.6]),\n",
    "    yaxis = dict(range = [0,127], autorange = False,\n",
    "             showgrid = False, zeroline = False, showticklabels = False,\n",
    "             ticks = '', domain=[0, 1]),\n",
    "    xaxis2 = dict(range = [0,127], autorange = False,\n",
    "             showgrid = False, zeroline = False, showticklabels = False,\n",
    "             ticks = '', domain=[0.4, 1]),\n",
    "    yaxis2 = dict(range = [0,127], autorange = False,\n",
    "             showgrid = False, zeroline = False, showticklabels = False,\n",
    "             ticks = '', domain=[0, 1], anchor='x2'),\n",
    "    showlegend = False,\n",
    "    autosize = False,\n",
    "    updatemenus=updatemenus\n",
    ")\n",
    "\n",
    "\n",
    "fig = dict(data=data, layout=layout)\n",
    "\n",
    "iplot(fig, filename = 'basic-heatmap', config = config)"
   ]
  },
  {
   "cell_type": "markdown",
   "metadata": {
    "kernel": "Python3"
   },
   "source": [
    "<center> <h2 style=\"font-family:timesnewroman;font-size:30px\">Benefits and Pitfalls</h2> </center>"
   ]
  },
  {
   "cell_type": "markdown",
   "metadata": {
    "kernel": "Python3"
   },
   "source": [
    "<div class=blog_body>\n",
    "<p style=\"text-align:justify;\">\n",
    "Limitations, diffusion spoiling, B1 maps, etc.\n",
    "</p>\n",
    "</div>"
   ]
  },
  {
   "cell_type": "markdown",
   "metadata": {
    "kernel": "Python3"
   },
   "source": [
    "<center> <h2 style=\"font-family:timesnewroman;font-size:30px\">Other Steady-State T<sub>1</sub> Mapping techniques</h2> </center>"
   ]
  },
  {
   "cell_type": "markdown",
   "metadata": {
    "kernel": "Python3"
   },
   "source": [
    "<div class=blog_body>\n",
    "<p style=\"text-align:justify;\">\n",
    "Anything to discuss?\n",
    "</p>\n",
    "</div>"
   ]
  },
  {
   "cell_type": "markdown",
   "metadata": {
    "kernel": "Python3"
   },
   "source": [
    "<center> <h2 style=\"font-family:timesnewroman;font-size:30px\">Works Cited</h2> </center>"
   ]
  },
  {
   "cell_type": "markdown",
   "metadata": {
    "kernel": "Python3"
   },
   "source": [
    "<div class=biblio_body>\n",
    "<p style=\"text-align:justify;\">\n",
    "Stikov, N. et al., 2015. On the accuracy of T<sub>1</sub> mapping: Searching for common ground. <i>Magn. Reson. Med.</i>, 73(2), pp.514–522.\n",
    "</p>\n",
    "</div>"
   ]
  },
  {
   "cell_type": "code",
   "execution_count": null,
   "metadata": {
    "kernel": "Python3"
   },
   "outputs": [],
   "source": [
    "# PYTHON CODE\n",
    "\n",
    "display(HTML(\n",
    "    '<style type=\"text/css\">'\n",
    "    '.output_subarea {'\n",
    "        'display: block;'\n",
    "        'margin-left: auto;'\n",
    "        'margin-right: auto;'\n",
    "    '}'\n",
    "    '.blog_body {'\n",
    "        'line-height: 2;'\n",
    "        'font-family: timesnewroman;'\n",
    "        'font-size: 18px;'\n",
    "        'margin-left: 0px;'\n",
    "        'margin-right: 0px;'\n",
    "    '}'\n",
    "    '.biblio_body {'\n",
    "        'line-height: 1.5;'\n",
    "        'font-family: timesnewroman;'\n",
    "        'font-size: 18px;'\n",
    "        'margin-left: 0px;'\n",
    "        'margin-right: 0px;'\n",
    "    '}'\n",
    "    '.note_body {'\n",
    "        'line-height: 1.25;'\n",
    "        'font-family: timesnewroman;'\n",
    "        'font-size: 18px;'\n",
    "        'margin-left: 0px;'\n",
    "        'margin-right: 0px;'\n",
    "        'color: #696969'\n",
    "    '}'\n",
    "    '.figure_caption {'\n",
    "        'line-height: 1.5;'\n",
    "        'font-family: timesnewroman;'\n",
    "        'font-size: 16px;'\n",
    "        'margin-left: 0px;'\n",
    "        'margin-right: 0px'\n",
    "    '</style>'\n",
    "))"
   ]
  }
 ],
 "metadata": {
  "celltoolbar": "Tags",
  "kernelspec": {
   "display_name": "SoS",
   "language": "sos",
   "name": "sos"
  },
  "language_info": {
   "codemirror_mode": "sos",
   "file_extension": ".sos",
   "mimetype": "text/x-sos",
   "name": "sos",
   "nbconvert_exporter": "sos_notebook.converter.SoS_Exporter",
   "pygments_lexer": "sos"
  },
  "sos": {
   "kernels": [
    [
     "Octave",
     "octave",
     "Octave",
     "#dff8fb"
    ],
    [
     "Python3",
     "python3",
     "Python3",
     "#FFD91A"
    ]
   ],
   "panel": {
    "displayed": true,
    "height": 0,
    "style": "side"
   },
   "version": "0.17.0"
  }
 },
 "nbformat": 4,
 "nbformat_minor": 2
}
